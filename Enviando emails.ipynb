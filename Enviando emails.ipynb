{
 "cells": [
  {
   "cell_type": "markdown",
   "id": "6d54bdbf",
   "metadata": {},
   "source": [
    "# Integração Python com Outlook"
   ]
  },
  {
   "cell_type": "markdown",
   "id": "4ac21547",
   "metadata": {},
   "source": [
    "## Funciona para qualquer e-mail: corporativo, gmail, hotmail, etc."
   ]
  },
  {
   "cell_type": "markdown",
   "id": "931e0d60",
   "metadata": {},
   "source": [
    "* Passo 1 - Importar win32 e inicializar o outlook:"
   ]
  },
  {
   "cell_type": "code",
   "execution_count": 1,
   "id": "0380caa0",
   "metadata": {},
   "outputs": [],
   "source": [
    "import win32com.client as win32\n",
    "outlook = win32.Dispatch('outlook.application')"
   ]
  },
  {
   "cell_type": "code",
   "execution_count": null,
   "id": "97ff4be7",
   "metadata": {},
   "outputs": [],
   "source": [
    "mail = outlook.CreateItem(0)\n",
    "mail.To = '' #para quem é o email\n",
    "mail.CC = ''\n",
    "email.BCC = ''\n",
    "mail.Subject = 'Email enviado pelo Jupyter' # assunto\n",
    "mail.Body = 'Oi! Tudo bem por aí?'\n",
    "\n",
    "#anexos (pode colocar quanto quiser):\n",
    "attachment = r'C:\\Users\\thale\\Desktop\\Natalia Docs\\Practicum\\Python\\Projeto 11\\info.png'\n",
    "mail.Attachments.Add(attachment)\n",
    "\n",
    "mail.Send()"
   ]
  },
  {
   "cell_type": "markdown",
   "id": "bf2117c3",
   "metadata": {},
   "source": [
    "## Enviar vários emails."
   ]
  },
  {
   "cell_type": "code",
   "execution_count": 5,
   "id": "dcac679b",
   "metadata": {},
   "outputs": [],
   "source": [
    "import win32com.client as win32\n",
    "outlook = win32.Dispatch('outlook.application')\n",
    "import pandas as pd"
   ]
  },
  {
   "cell_type": "code",
   "execution_count": 6,
   "id": "4b45d404",
   "metadata": {},
   "outputs": [],
   "source": [
    "gerentes_df = pd.read_excel('Enviar emails.xlsx')"
   ]
  },
  {
   "cell_type": "code",
   "execution_count": 7,
   "id": "456dd2e3",
   "metadata": {},
   "outputs": [
    {
     "data": {
      "text/html": [
       "<div>\n",
       "<style scoped>\n",
       "    .dataframe tbody tr th:only-of-type {\n",
       "        vertical-align: middle;\n",
       "    }\n",
       "\n",
       "    .dataframe tbody tr th {\n",
       "        vertical-align: top;\n",
       "    }\n",
       "\n",
       "    .dataframe thead th {\n",
       "        text-align: right;\n",
       "    }\n",
       "</style>\n",
       "<table border=\"1\" class=\"dataframe\">\n",
       "  <thead>\n",
       "    <tr style=\"text-align: right;\">\n",
       "      <th></th>\n",
       "      <th>Gerente</th>\n",
       "      <th>e-mail</th>\n",
       "      <th>relatório</th>\n",
       "    </tr>\n",
       "  </thead>\n",
       "  <tbody>\n",
       "    <tr>\n",
       "      <th>0</th>\n",
       "      <td>Natália</td>\n",
       "      <td>*****.pad1+1@gmail.com</td>\n",
       "      <td>Vendas</td>\n",
       "    </tr>\n",
       "    <tr>\n",
       "      <th>1</th>\n",
       "      <td>Natália L.</td>\n",
       "      <td>*****.pad1+2@gmail.com</td>\n",
       "      <td>Finanças</td>\n",
       "    </tr>\n",
       "    <tr>\n",
       "      <th>2</th>\n",
       "      <td>Natália B</td>\n",
       "      <td>*****.pad1+3@gmail.com</td>\n",
       "      <td>Marketing</td>\n",
       "    </tr>\n",
       "  </tbody>\n",
       "</table>\n",
       "</div>"
      ],
      "text/plain": [
       "      Gerente                  e-mail  relatório\n",
       "0     Natália  *****.pad1+1@gmail.com     Vendas\n",
       "1  Natália L.  *****.pad1+2@gmail.com   Finanças\n",
       "2   Natália B  *****.pad1+3@gmail.com  Marketing"
      ]
     },
     "metadata": {},
     "output_type": "display_data"
    }
   ],
   "source": [
    "display(gerentes_df)"
   ]
  },
  {
   "cell_type": "code",
   "execution_count": 33,
   "id": "19f2ed0e",
   "metadata": {},
   "outputs": [],
   "source": [
    "for i, email in enumerate(gerentes_df['e-mail']):\n",
    "    gerente = gerentes_df.loc[i, 'Gerente']\n",
    "    area = gerentes_df.loc[i, 'relatório']\n",
    "    \n",
    "    mail = outlook.CreateItem(0)\n",
    "    mail.To = email\n",
    "    mail.Subject = 'Relatório de {}.'.format(area)\n",
    "    mail.Body = ''' \n",
    "    Prezado {},\n",
    "    Segue em anexo o relatório de {}, conforme solicitado.\n",
    "    Qualquer dúvida estou à disposição.\n",
    "    Att.,\n",
    "    '''.format(gerente, area)\n",
    "# colocar os três pontos para conseguir escrever.\n",
    "\n",
    "    #anexos (pode colocar quanto quiser):\n",
    "    attachment = r'C:\\Users\\thale\\Desktop\\Natalia Docs\\Practicum\\Python\\Projeto 11\\info.png'\n",
    "    mail.Attachments.Add(attachment)\n",
    "    # se for preciso enviar vários emails com vário relatórios diferentes pode colocar assim: \n",
    "    #'C:\\Users\\thale\\Desktop\\Natalia Docs\\Practicum\\Python\\Projeto 11\\{}.png'.format(area)\n",
    "    mail.Send()\n",
    "    \n",
    "    "
   ]
  },
  {
   "cell_type": "markdown",
   "id": "75943388",
   "metadata": {},
   "source": [
    "# Enviar email_gmail:"
   ]
  },
  {
   "cell_type": "markdown",
   "id": "dbf7b255",
   "metadata": {},
   "source": [
    "Primeiro instalar no prompt de comando: pip install imap_tools"
   ]
  },
  {
   "cell_type": "code",
   "execution_count": 27,
   "id": "d41f23f2",
   "metadata": {},
   "outputs": [],
   "source": [
    "import smtplib\n",
    "import email.message\n",
    "\n",
    "def enviar_email():  \n",
    "    corpo_email = \"\"\"\n",
    "    <p>Parágrafo1</p>\n",
    "    <p>Parágrafo2</p>\n",
    "    \"\"\"\n",
    "\n",
    "    msg = email.message.Message()\n",
    "    msg['Subject'] = \"Assunto\"\n",
    "    msg['From'] = 'nataliaberti.pad1+1@gmail.com'\n",
    "    msg['To'] = 'nataliaberti.pad1+1@gmail.com'\n",
    "    password = 'senha' \n",
    "    msg.add_header('Content-Type', 'text/html')\n",
    "    msg.set_payload(corpo_email )\n",
    "\n",
    "    s = smtplib.SMTP('smtp.gmail.com: 587')\n",
    "    s.starttls()\n",
    "    # Login Credentials for sending the mail\n",
    "    s.login(msg['From'], password)\n",
    "    s.sendmail(msg['From'], [msg['To']], msg.as_string().encode('utf-8'))\n",
    "    print('Email enviado')"
   ]
  }
 ],
 "metadata": {
  "hide_input": false,
  "kernelspec": {
   "display_name": "Python 3 (ipykernel)",
   "language": "python",
   "name": "python3"
  },
  "language_info": {
   "codemirror_mode": {
    "name": "ipython",
    "version": 3
   },
   "file_extension": ".py",
   "mimetype": "text/x-python",
   "name": "python",
   "nbconvert_exporter": "python",
   "pygments_lexer": "ipython3",
   "version": "3.9.13"
  },
  "toc": {
   "base_numbering": 1,
   "nav_menu": {},
   "number_sections": true,
   "sideBar": true,
   "skip_h1_title": true,
   "title_cell": "Table of Contents",
   "title_sidebar": "Contents",
   "toc_cell": false,
   "toc_position": {
    "height": "calc(100% - 180px)",
    "left": "10px",
    "top": "150px",
    "width": "303.542px"
   },
   "toc_section_display": true,
   "toc_window_display": true
  }
 },
 "nbformat": 4,
 "nbformat_minor": 5
}
